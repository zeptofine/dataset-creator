{
 "cells": [
  {
   "cell_type": "code",
   "execution_count": null,
   "metadata": {},
   "outputs": [],
   "source": [
    "import random\n",
    "from pathlib import Path\n",
    "\n",
    "import polars as pl\n",
    "\n",
    "from imdataset_creator.datarules import DatasetBuilder\n",
    "from imdataset_creator.datarules import Rule"
   ]
  },
  {
   "cell_type": "code",
   "execution_count": null,
   "metadata": {},
   "outputs": [],
   "source": [
    "filename = \"filedb.arrow\"\n",
    "df = pl.read_ipc(filename, memory_map=False)\n",
    "df"
   ]
  },
  {
   "cell_type": "code",
   "execution_count": null,
   "metadata": {},
   "outputs": [],
   "source": [
    "# shuffle dataframe\n",
    "def shuffle(df: pl.DataFrame, rand_col=\"rnd\") -> pl.DataFrame:\n",
    "    return df.with_columns(pl.Series(rand_col, [random.random() for _ in range(len(df))])).sort(rand_col).drop(rand_col)\n",
    "df = shuffle(df)"
   ]
  },
  {
   "cell_type": "code",
   "execution_count": null,
   "metadata": {},
   "outputs": [],
   "source": [
    "# delete random items in dataframe\n",
    "thresh = 0.95\n",
    "import random\n",
    "\n",
    "\n",
    "def rnd(_):\n",
    "    return random.random()\n",
    "\n",
    "\n",
    "def drop_rand(df: pl.DataFrame, exclude: list[str], thresh: float = 0.9) -> pl.DataFrame:\n",
    "    new = df.select(pl.when(pl.all().exclude(*exclude).map_elements(rnd, skip_nulls=False) < thresh).then(pl.all()))\n",
    "    return new.with_columns(df.select(*exclude)).select(df.columns)\n",
    "\n",
    "\n",
    "df = drop_rand(df, [\"path\"], 0.5)"
   ]
  },
  {
   "cell_type": "code",
   "execution_count": null,
   "metadata": {},
   "outputs": [],
   "source": [
    "# save\n",
    "df.rechunk().write_ipc(filename)"
   ]
  },
  {
   "cell_type": "code",
   "execution_count": null,
   "metadata": {},
   "outputs": [],
   "source": [
    "from polars import col\n",
    "df.select(col(\"modifiedtime\") == col(\"modifiedtime\").max())"
   ]
  },
  {
   "attachments": {},
   "cell_type": "markdown",
   "metadata": {},
   "source": [
    "### plot resolution vs modified time"
   ]
  },
  {
   "cell_type": "code",
   "execution_count": null,
   "metadata": {},
   "outputs": [],
   "source": [
    "plt.figure(figsize=(5, 10), dpi=300)\n",
    "plt.scatter(\n",
    "    x=df.select(\"modifiedtime\"),\n",
    "    y=df.with_columns(sum_res=pl.col(\"resolution\").apply(lambda lst: sum(lst))).select(\"sum_res\"),\n",
    "    s=0.05,\n",
    "    c=df.select(\"checkedtime\"),\n",
    "    alpha=0.5\n",
    ")\n",
    "plt.xlabel(\"modifiedtime\")\n",
    "plt.ylabel(\"sum resolution\")"
   ]
  }
 ],
 "metadata": {
  "kernelspec": {
   "display_name": ".venv",
   "language": "python",
   "name": "python3"
  },
  "language_info": {
   "codemirror_mode": {
    "name": "ipython",
    "version": 3
   },
   "file_extension": ".py",
   "mimetype": "text/x-python",
   "name": "python",
   "nbconvert_exporter": "python",
   "pygments_lexer": "ipython3",
   "version": "3.11.5"
  },
  "orig_nbformat": 4
 },
 "nbformat": 4,
 "nbformat_minor": 2
}
