{
 "cells": [
  {
   "cell_type": "code",
   "execution_count": 1,
   "metadata": {},
   "outputs": [
    {
     "name": "stdout",
     "output_type": "stream",
     "text": [
      "Collecting matplotlib\n",
      "  Obtaining dependency information for matplotlib from https://files.pythonhosted.org/packages/4f/d7/3303f11188122f66c940056f162d030992e7fbc9c702869bab163e85156b/matplotlib-3.7.2-cp311-cp311-manylinux_2_17_x86_64.manylinux2014_x86_64.whl.metadata\n",
      "  Downloading matplotlib-3.7.2-cp311-cp311-manylinux_2_17_x86_64.manylinux2014_x86_64.whl.metadata (5.6 kB)\n",
      "Requirement already satisfied: tqdm in ./.venv/lib/python3.11/site-packages (4.66.1)\n",
      "Collecting contourpy>=1.0.1 (from matplotlib)\n",
      "  Obtaining dependency information for contourpy>=1.0.1 from https://files.pythonhosted.org/packages/d8/23/8d968922459b1c8a2c6ffca28fac00324b06b3a0633be2a39b0b1c3f84ab/contourpy-1.1.0-cp311-cp311-manylinux_2_17_x86_64.manylinux2014_x86_64.whl.metadata\n",
      "  Downloading contourpy-1.1.0-cp311-cp311-manylinux_2_17_x86_64.manylinux2014_x86_64.whl.metadata (5.7 kB)\n",
      "Collecting cycler>=0.10 (from matplotlib)\n",
      "  Downloading cycler-0.11.0-py3-none-any.whl (6.4 kB)\n",
      "Collecting fonttools>=4.22.0 (from matplotlib)\n",
      "  Obtaining dependency information for fonttools>=4.22.0 from https://files.pythonhosted.org/packages/07/fb/c507a09ab93642224417c31a3acd2806bfa53f4d723cf5d6cbdf62f2f337/fonttools-4.42.1-cp311-cp311-manylinux_2_17_x86_64.manylinux2014_x86_64.whl.metadata\n",
      "  Downloading fonttools-4.42.1-cp311-cp311-manylinux_2_17_x86_64.manylinux2014_x86_64.whl.metadata (150 kB)\n",
      "\u001b[2K     \u001b[90m━━━━━━━━━━━━━━━━━━━━━━━━━━━━━━━━━━━━━━━\u001b[0m \u001b[32m151.0/151.0 kB\u001b[0m \u001b[31m5.6 MB/s\u001b[0m eta \u001b[36m0:00:00\u001b[0m\n",
      "\u001b[?25hCollecting kiwisolver>=1.0.1 (from matplotlib)\n",
      "  Obtaining dependency information for kiwisolver>=1.0.1 from https://files.pythonhosted.org/packages/17/ba/17a706b232308e65f57deeccae503c268292e6a091313f6ce833a23093ea/kiwisolver-1.4.5-cp311-cp311-manylinux_2_17_x86_64.manylinux2014_x86_64.whl.metadata\n",
      "  Downloading kiwisolver-1.4.5-cp311-cp311-manylinux_2_17_x86_64.manylinux2014_x86_64.whl.metadata (6.4 kB)\n",
      "Requirement already satisfied: numpy>=1.20 in ./.venv/lib/python3.11/site-packages (from matplotlib) (1.25.2)\n",
      "Requirement already satisfied: packaging>=20.0 in ./.venv/lib/python3.11/site-packages (from matplotlib) (23.1)\n",
      "Requirement already satisfied: pillow>=6.2.0 in ./.venv/lib/python3.11/site-packages (from matplotlib) (10.0.0)\n",
      "Collecting pyparsing<3.1,>=2.3.1 (from matplotlib)\n",
      "  Downloading pyparsing-3.0.9-py3-none-any.whl (98 kB)\n",
      "\u001b[2K     \u001b[90m━━━━━━━━━━━━━━━━━━━━━━━━━━━━━━━━━━━━━━━━\u001b[0m \u001b[32m98.3/98.3 kB\u001b[0m \u001b[31m17.0 MB/s\u001b[0m eta \u001b[36m0:00:00\u001b[0m\n",
      "\u001b[?25hRequirement already satisfied: python-dateutil>=2.7 in ./.venv/lib/python3.11/site-packages (from matplotlib) (2.8.2)\n",
      "Requirement already satisfied: six>=1.5 in ./.venv/lib/python3.11/site-packages (from python-dateutil>=2.7->matplotlib) (1.16.0)\n",
      "Downloading matplotlib-3.7.2-cp311-cp311-manylinux_2_17_x86_64.manylinux2014_x86_64.whl (11.6 MB)\n",
      "\u001b[2K   \u001b[90m━━━━━━━━━━━━━━━━━━━━━━━━━━━━━━━━━━━━━━━━\u001b[0m \u001b[32m11.6/11.6 MB\u001b[0m \u001b[31m4.1 MB/s\u001b[0m eta \u001b[36m0:00:00\u001b[0m00:01\u001b[0m00:01\u001b[0m\n",
      "\u001b[?25hDownloading contourpy-1.1.0-cp311-cp311-manylinux_2_17_x86_64.manylinux2014_x86_64.whl (300 kB)\n",
      "\u001b[2K   \u001b[90m━━━━━━━━━━━━━━━━━━━━━━━━━━━━━━━━━━━━━━━━\u001b[0m \u001b[32m300.4/300.4 kB\u001b[0m \u001b[31m7.3 MB/s\u001b[0m eta \u001b[36m0:00:00\u001b[0m00:01\u001b[0m\n",
      "\u001b[?25hDownloading fonttools-4.42.1-cp311-cp311-manylinux_2_17_x86_64.manylinux2014_x86_64.whl (4.9 MB)\n",
      "\u001b[2K   \u001b[90m━━━━━━━━━━━━━━━━━━━━━━━━━━━━━━━━━━━━━━━━\u001b[0m \u001b[32m4.9/4.9 MB\u001b[0m \u001b[31m4.0 MB/s\u001b[0m eta \u001b[36m0:00:00\u001b[0m00:01\u001b[0m00:01\u001b[0m\n",
      "\u001b[?25hDownloading kiwisolver-1.4.5-cp311-cp311-manylinux_2_17_x86_64.manylinux2014_x86_64.whl (1.4 MB)\n",
      "\u001b[2K   \u001b[90m━━━━━━━━━━━━━━━━━━━━━━━━━━━━━━━━━━━━━━━━\u001b[0m \u001b[32m1.4/1.4 MB\u001b[0m \u001b[31m5.1 MB/s\u001b[0m eta \u001b[36m0:00:00\u001b[0m00:01\u001b[0m00:01\u001b[0m\n",
      "\u001b[?25hInstalling collected packages: pyparsing, kiwisolver, fonttools, cycler, contourpy, matplotlib\n",
      "Successfully installed contourpy-1.1.0 cycler-0.11.0 fonttools-4.42.1 kiwisolver-1.4.5 matplotlib-3.7.2 pyparsing-3.0.9\n",
      "Note: you may need to restart the kernel to use updated packages.\n"
     ]
    }
   ],
   "source": [
    "%pip install matplotlib tqdm"
   ]
  },
  {
   "cell_type": "code",
   "execution_count": 2,
   "metadata": {},
   "outputs": [],
   "source": [
    "import random\n",
    "from pathlib import Path\n",
    "\n",
    "import matplotlib.pyplot as plt\n",
    "import polars as pl\n",
    "from tqdm import tqdm\n",
    "\n",
    "from src.datarules.dataset_builder import DatasetBuilder\n",
    "from src.datarules.base_rules import Rule"
   ]
  },
  {
   "cell_type": "code",
   "execution_count": 3,
   "metadata": {},
   "outputs": [
    {
     "data": {
      "text/html": [
       "<div><style>\n",
       ".dataframe > thead > tr > th,\n",
       ".dataframe > tbody > tr > td {\n",
       "  text-align: right;\n",
       "}\n",
       "</style>\n",
       "<small>shape: (9_963, 6)</small><table border=\"1\" class=\"dataframe\"><thead><tr><th>path</th><th>mtime</th><th>size</th><th>width</th><th>height</th><th>channels</th></tr><tr><td>str</td><td>datetime[ms]</td><td>i64</td><td>i64</td><td>i64</td><td>i64</td></tr></thead><tbody><tr><td>&quot;/mnt/Toshiba/.…</td><td>2022-02-14 06:45:03</td><td>251546</td><td>1600</td><td>1600</td><td>3</td></tr><tr><td>&quot;/mnt/Toshiba/.…</td><td>2010-05-22 07:14:45</td><td>58654</td><td>396</td><td>592</td><td>3</td></tr><tr><td>&quot;/mnt/Toshiba/.…</td><td>2016-08-13 13:36:10</td><td>474472</td><td>1200</td><td>784</td><td>3</td></tr><tr><td>&quot;/mnt/Toshiba/.…</td><td>2022-05-07 10:34:11</td><td>216346</td><td>1600</td><td>1600</td><td>3</td></tr><tr><td>&quot;/mnt/Toshiba/.…</td><td>2020-10-24 10:47:58</td><td>137881</td><td>1280</td><td>1280</td><td>3</td></tr><tr><td>&quot;/mnt/Toshiba/.…</td><td>2022-07-04 12:05:17</td><td>1818210</td><td>2240</td><td>1280</td><td>3</td></tr><tr><td>&quot;/mnt/Toshiba/.…</td><td>2017-02-03 20:24:34</td><td>648837</td><td>826</td><td>1000</td><td>3</td></tr><tr><td>&quot;/mnt/Toshiba/.…</td><td>2018-04-20 07:56:20</td><td>1038371</td><td>2448</td><td>3264</td><td>3</td></tr><tr><td>&quot;/mnt/Toshiba/.…</td><td>2021-05-21 12:48:32</td><td>697842</td><td>1466</td><td>1232</td><td>3</td></tr><tr><td>&quot;/mnt/Toshiba/.…</td><td>2020-10-30 07:57:49</td><td>808173</td><td>800</td><td>1091</td><td>3</td></tr><tr><td>&quot;/mnt/Toshiba/.…</td><td>2023-04-26 11:25:55</td><td>1137246</td><td>1800</td><td>2546</td><td>3</td></tr><tr><td>&quot;/mnt/Toshiba/.…</td><td>2022-06-24 04:37:20</td><td>190788</td><td>1600</td><td>1600</td><td>3</td></tr><tr><td>&hellip;</td><td>&hellip;</td><td>&hellip;</td><td>&hellip;</td><td>&hellip;</td><td>&hellip;</td></tr><tr><td>&quot;/mnt/Toshiba/.…</td><td>2020-10-20 06:57:04</td><td>178069</td><td>1280</td><td>1280</td><td>3</td></tr><tr><td>&quot;/mnt/Toshiba/.…</td><td>2021-01-21 04:15:02</td><td>128133</td><td>1280</td><td>1280</td><td>3</td></tr><tr><td>&quot;/mnt/Toshiba/.…</td><td>2018-08-08 00:28:11</td><td>143926</td><td>944</td><td>1280</td><td>3</td></tr><tr><td>&quot;/mnt/Toshiba/.…</td><td>2016-09-24 10:38:01</td><td>1071932</td><td>900</td><td>600</td><td>4</td></tr><tr><td>&quot;/mnt/Toshiba/.…</td><td>2022-04-11 09:55:41</td><td>328468</td><td>1600</td><td>1600</td><td>3</td></tr><tr><td>&quot;/mnt/Toshiba/.…</td><td>2023-08-01 17:08:17</td><td>2600070</td><td>1661</td><td>2218</td><td>4</td></tr><tr><td>&quot;/mnt/Toshiba/.…</td><td>2021-09-24 16:47:12</td><td>3313584</td><td>1375</td><td>1944</td><td>3</td></tr><tr><td>&quot;/mnt/Toshiba/.…</td><td>2020-02-28 13:04:58</td><td>210341</td><td>1142</td><td>371</td><td>4</td></tr><tr><td>&quot;/mnt/Toshiba/.…</td><td>2019-04-04 10:27:10</td><td>1169582</td><td>1189</td><td>1600</td><td>4</td></tr><tr><td>&quot;/mnt/Toshiba/.…</td><td>2022-08-21 15:22:52</td><td>6431561</td><td>4741</td><td>3865</td><td>3</td></tr><tr><td>&quot;/mnt/Toshiba/.…</td><td>2018-10-25 00:30:14</td><td>3345932</td><td>1786</td><td>1263</td><td>4</td></tr><tr><td>&quot;/mnt/Toshiba/.…</td><td>2014-05-07 01:58:55</td><td>296472</td><td>1260</td><td>522</td><td>3</td></tr></tbody></table></div>"
      ],
      "text/plain": [
       "shape: (9_963, 6)\n",
       "┌───────────────────────────────────┬─────────────────────┬─────────┬───────┬────────┬──────────┐\n",
       "│ path                              ┆ mtime               ┆ size    ┆ width ┆ height ┆ channels │\n",
       "│ ---                               ┆ ---                 ┆ ---     ┆ ---   ┆ ---    ┆ ---      │\n",
       "│ str                               ┆ datetime[ms]        ┆ i64     ┆ i64   ┆ i64    ┆ i64      │\n",
       "╞═══════════════════════════════════╪═════════════════════╪═════════╪═══════╪════════╪══════════╡\n",
       "│ /mnt/Toshiba/.Grabber/pool 20198… ┆ 2022-02-14 06:45:03 ┆ 251546  ┆ 1600  ┆ 1600   ┆ 3        │\n",
       "│ /mnt/Toshiba/.Grabber/tom fischb… ┆ 2010-05-22 07:14:45 ┆ 58654   ┆ 396   ┆ 592    ┆ 3        │\n",
       "│ /mnt/Toshiba/.Grabber/orphen-sir… ┆ 2016-08-13 13:36:10 ┆ 474472  ┆ 1200  ┆ 784    ┆ 3        │\n",
       "│ /mnt/Toshiba/.Grabber/pool 20198… ┆ 2022-05-07 10:34:11 ┆ 216346  ┆ 1600  ┆ 1600   ┆ 3        │\n",
       "│ …                                 ┆ …                   ┆ …       ┆ …     ┆ …      ┆ …        │\n",
       "│ /mnt/Toshiba/.Grabber/zummeng/20… ┆ 2019-04-04 10:27:10 ┆ 1169582 ┆ 1189  ┆ 1600   ┆ 4        │\n",
       "│ /mnt/Toshiba/.Grabber/vinyanko/2… ┆ 2022-08-21 15:22:52 ┆ 6431561 ┆ 4741  ┆ 3865   ┆ 3        │\n",
       "│ /mnt/Toshiba/.Grabber/amarian/20… ┆ 2018-10-25 00:30:14 ┆ 3345932 ┆ 1786  ┆ 1263   ┆ 4        │\n",
       "│ /mnt/Toshiba/.Grabber/cobalt sno… ┆ 2014-05-07 01:58:55 ┆ 296472  ┆ 1260  ┆ 522    ┆ 3        │\n",
       "└───────────────────────────────────┴─────────────────────┴─────────┴───────┴────────┴──────────┘"
      ]
     },
     "execution_count": 3,
     "metadata": {},
     "output_type": "execute_result"
    }
   ],
   "source": [
    "filename = \"filedb.feather\"\n",
    "df = pl.read_ipc(filename)\n",
    "df"
   ]
  },
  {
   "cell_type": "code",
   "execution_count": 4,
   "metadata": {},
   "outputs": [],
   "source": [
    "# shuffle dataframe\n",
    "def shuffle(df: pl.DataFrame, rand_col=\"rnd\") -> pl.DataFrame:\n",
    "    return df.with_columns(pl.Series(rand_col, [random.random() for _ in range(len(df))])).sort(rand_col).drop(rand_col)\n",
    "df = shuffle(df)"
   ]
  },
  {
   "cell_type": "code",
   "execution_count": 6,
   "metadata": {},
   "outputs": [],
   "source": [
    "# delete random items in dataframe\n",
    "thresh = 0.95\n",
    "import random\n",
    "\n",
    "\n",
    "def rnd(_):\n",
    "    return random.random()\n",
    "\n",
    "\n",
    "def drop_rand(df: pl.DataFrame, exclude: list[str], thresh: float = 0.9) -> pl.DataFrame:\n",
    "    new = df.select(pl.when(pl.all().exclude(*exclude).apply(rnd, skip_nulls=False) < thresh).then(pl.all()))\n",
    "    return new.with_columns(df.select(*exclude)).select(df.columns)\n",
    "\n",
    "\n",
    "df = drop_rand(df, [\"path\"], 0.5)"
   ]
  },
  {
   "cell_type": "code",
   "execution_count": 7,
   "metadata": {},
   "outputs": [],
   "source": [
    "# save\n",
    "df.rechunk().write_ipc(filename)"
   ]
  },
  {
   "cell_type": "code",
   "execution_count": null,
   "metadata": {},
   "outputs": [],
   "source": [
    "from polars import col\n",
    "df.select(col(\"modifiedtime\") == col(\"modifiedtime\").max())"
   ]
  },
  {
   "attachments": {},
   "cell_type": "markdown",
   "metadata": {},
   "source": [
    "### plot resolution vs modified time"
   ]
  },
  {
   "cell_type": "code",
   "execution_count": null,
   "metadata": {},
   "outputs": [],
   "source": [
    "plt.figure(figsize=(5, 10), dpi=300)\n",
    "plt.scatter(\n",
    "    x=df.select(\"modifiedtime\"),\n",
    "    y=df.with_columns(sum_res=pl.col(\"resolution\").apply(lambda lst: sum(lst))).select(\"sum_res\"),\n",
    "    s=0.05,\n",
    "    c=df.select(\"checkedtime\"),\n",
    "    alpha=0.5\n",
    ")\n",
    "plt.xlabel(\"modifiedtime\")\n",
    "plt.ylabel(\"sum resolution\")"
   ]
  },
  {
   "cell_type": "markdown",
   "metadata": {},
   "source": [
    "### Link a list of files based on data from the database"
   ]
  },
  {
   "cell_type": "code",
   "execution_count": null,
   "metadata": {},
   "outputs": [],
   "source": [
    "input_folder = Path(\"/mnt/Toshiba/.Grabber/\")\n",
    "output = input_folder.with_name(f\"{input_folder.name}-linked\")\n",
    "category = \"hash\"\n",
    "config_path = Path(\"database_config.toml\")\n",
    "overwrite = True\n",
    "\n",
    "populate=False # you'll need to specify a rule to add to the builder if you use this\n",
    "# define rules here\n",
    "# from dataset_filters.external_filters import HashRule\n",
    "rule_list: list[Rule] = [\n",
    "#     HashFilter()\n",
    "    ]\n",
    "# ^^ these filters do not change the output size. They only dictate what columns are available,\n",
    "# if what you want is not already."
   ]
  },
  {
   "cell_type": "code",
   "execution_count": null,
   "metadata": {},
   "outputs": [],
   "source": [
    "# Run\n",
    "output.mkdir(exist_ok=True)\n",
    "exts = [\".jpg\", \".jpeg\", \".png\", \".webp\"]\n",
    "filelist = [i for i in input_folder.rglob(\"*\") if i.suffix in exts]\n",
    "db = DatasetBuilder(Path(\"filedb.feather\"))\n",
    "##### add filters here ##### \n",
    "if populate:\n",
    "    db.add_rules(rule_list)\n",
    "    if db.rules:\n",
    "        db.populate_df(map(str, filelist))\n",
    "############################\n",
    "assert category in db.df.columns, f\"selected category is not in {db.df.columns}\"\n",
    "file_data = db.df.filter(pl.col(\"path\").is_in(list(map(str, filelist))))\n",
    "\n",
    "with tqdm(file_data.iter_rows(named=True), total=len(file_data)) as t:\n",
    "    for data in t:\n",
    "        pth = Path(data[\"path\"])\n",
    "        hash_ = str(data[category])\n",
    "        new_path: Path = (output / f\"{hash_}_{pth.stem}\").with_suffix(pth.suffix)\n",
    "        if not new_path.exists() or overwrite:\n",
    "            new_path.unlink()\n",
    "            new_path.symlink_to(pth)\n",
    "            t.set_description_str(hash_)\n"
   ]
  }
 ],
 "metadata": {
  "kernelspec": {
   "display_name": ".venv",
   "language": "python",
   "name": "python3"
  },
  "language_info": {
   "codemirror_mode": {
    "name": "ipython",
    "version": 3
   },
   "file_extension": ".py",
   "mimetype": "text/x-python",
   "name": "python",
   "nbconvert_exporter": "python",
   "pygments_lexer": "ipython3",
   "version": "3.11.5"
  },
  "orig_nbformat": 4
 },
 "nbformat": 4,
 "nbformat_minor": 2
}
